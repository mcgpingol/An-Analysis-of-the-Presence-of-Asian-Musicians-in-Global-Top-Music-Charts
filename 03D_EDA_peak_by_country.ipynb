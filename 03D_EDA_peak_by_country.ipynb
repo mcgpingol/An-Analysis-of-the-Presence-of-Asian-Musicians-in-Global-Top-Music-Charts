{
 "cells": [
  {
   "cell_type": "code",
   "execution_count": 1,
   "id": "28b47dc6",
   "metadata": {
    "ExecuteTime": {
     "end_time": "2021-08-10T11:30:13.676569Z",
     "start_time": "2021-08-10T11:30:12.261712Z"
    }
   },
   "outputs": [],
   "source": [
    "import pandas as pd\n",
    "import seaborn as sns\n",
    "import matplotlib.pyplot as plt\n",
    "import re\n",
    "import sqlite3\n",
    "import numpy as np\n",
    "import matplotlib.dates as mdates\n",
    "from datetime import datetime\n",
    "import matplotlib.patches as mpatches\n",
    "import altair as alt\n",
    "\n",
    "pd.set_option('display.max_rows', 500)\n",
    "pd.set_option('display.max_columns', 500)"
   ]
  },
  {
   "cell_type": "markdown",
   "id": "435db4b2",
   "metadata": {},
   "source": [
    "# Wikipedia"
   ]
  },
  {
   "cell_type": "code",
   "execution_count": 2,
   "id": "35804fda",
   "metadata": {
    "ExecuteTime": {
     "end_time": "2021-08-10T11:30:14.796704Z",
     "start_time": "2021-08-10T11:30:14.640043Z"
    }
   },
   "outputs": [
    {
     "name": "stdout",
     "output_type": "stream",
     "text": [
      "(10487, 3)\n"
     ]
    },
    {
     "data": {
      "text/html": [
       "<div>\n",
       "<style scoped>\n",
       "    .dataframe tbody tr th:only-of-type {\n",
       "        vertical-align: middle;\n",
       "    }\n",
       "\n",
       "    .dataframe tbody tr th {\n",
       "        vertical-align: top;\n",
       "    }\n",
       "\n",
       "    .dataframe thead th {\n",
       "        text-align: right;\n",
       "    }\n",
       "</style>\n",
       "<table border=\"1\" class=\"dataframe\">\n",
       "  <thead>\n",
       "    <tr style=\"text-align: right;\">\n",
       "      <th></th>\n",
       "      <th>artist</th>\n",
       "      <th>country</th>\n",
       "      <th>lineage</th>\n",
       "    </tr>\n",
       "  </thead>\n",
       "  <tbody>\n",
       "    <tr>\n",
       "      <th>0</th>\n",
       "      <td>kim jin-ho</td>\n",
       "      <td>South Korean</td>\n",
       "      <td>Asian</td>\n",
       "    </tr>\n",
       "    <tr>\n",
       "      <th>1</th>\n",
       "      <td>solar</td>\n",
       "      <td>South Korean</td>\n",
       "      <td>Asian</td>\n",
       "    </tr>\n",
       "    <tr>\n",
       "      <th>2</th>\n",
       "      <td>cool</td>\n",
       "      <td>South Korean</td>\n",
       "      <td>Asian</td>\n",
       "    </tr>\n",
       "    <tr>\n",
       "      <th>3</th>\n",
       "      <td>golden child</td>\n",
       "      <td>South Korean</td>\n",
       "      <td>Asian</td>\n",
       "    </tr>\n",
       "    <tr>\n",
       "      <th>4</th>\n",
       "      <td>kim so-hye</td>\n",
       "      <td>South Korean</td>\n",
       "      <td>Asian</td>\n",
       "    </tr>\n",
       "  </tbody>\n",
       "</table>\n",
       "</div>"
      ],
      "text/plain": [
       "          artist       country lineage\n",
       "0    kim jin-ho   South Korean   Asian\n",
       "1         solar   South Korean   Asian\n",
       "2          cool   South Korean   Asian\n",
       "3  golden child   South Korean   Asian\n",
       "4     kim so-hye  South Korean   Asian"
      ]
     },
     "execution_count": 2,
     "metadata": {},
     "output_type": "execute_result"
    }
   ],
   "source": [
    "# connect to wikipedia db\n",
    "conn = sqlite3.connect('./pre_processed_data/lab2.db')\n",
    "df_wik = pd.read_sql(\"\"\"SELECT * from wiki_artists\n",
    "\"\"\", conn)\n",
    "conn.close()\n",
    "df_wik.rename(columns={'name':'artist'}, inplace=True)\n",
    "print(df_wik.shape)\n",
    "df_wik.head()"
   ]
  },
  {
   "cell_type": "markdown",
   "id": "5da72210",
   "metadata": {},
   "source": [
    "# Billboard Global 200"
   ]
  },
  {
   "cell_type": "code",
   "execution_count": 3,
   "id": "5a12790b",
   "metadata": {
    "ExecuteTime": {
     "end_time": "2021-08-10T11:30:16.364776Z",
     "start_time": "2021-08-10T11:30:15.434309Z"
    }
   },
   "outputs": [
    {
     "name": "stderr",
     "output_type": "stream",
     "text": [
      "<ipython-input-3-f17bb376444c>:20: SettingWithCopyWarning: \n",
      "A value is trying to be set on a copy of a slice from a DataFrame.\n",
      "Try using .loc[row_indexer,col_indexer] = value instead\n",
      "\n",
      "See the caveats in the documentation: https://pandas.pydata.org/pandas-docs/stable/user_guide/indexing.html#returning-a-view-versus-a-copy\n",
      "  df_peaks['month'] = df_peaks['date'].dt.strftime('%Y-%m')\n"
     ]
    }
   ],
   "source": [
    "# connect to billboard database\n",
    "conn = sqlite3.connect('./pre_processed_data/lab2.db')\n",
    "my_sql = \"\"\"\n",
    "    SELECT *\n",
    "    FROM billboard\n",
    "    left join wiki_artists\n",
    "    on name = artist \n",
    "\"\"\"\n",
    "df_bb = pd.read_sql(my_sql, conn)\n",
    "df_bb['date'] = pd.to_datetime(df_bb['date'])\n",
    "\n",
    "# create df for billboard global 200\n",
    "cols = ['date', 'artist', 'rank', 'country', 'lineage']\n",
    "df_bbg200 = df_bb[df_bb['chartname']=='weekly_billboard_global_200']\n",
    "df_bbg200 = df_bbg200[cols]\n",
    "df_bbg200 = df_bbg200.fillna({'country':'Non-Asian','lineage': 'Non-Asian'})\n",
    "\n",
    "# create df for top 100 asians\n",
    "df_peaks = df_bbg200[(df_bbg200['rank']<=100) & (df_bbg200['lineage']=='Asian')]\n",
    "df_peaks['month'] = df_peaks['date'].dt.strftime('%Y-%m')\n",
    "df_peaks = df_peaks.groupby('month')['country'].value_counts().to_frame()\n",
    "df_peaks.columns = ['count']\n",
    "df_peaks = df_peaks.reset_index()\n",
    "df_peaks_bbg200_asian = df_peaks.copy()\n",
    "df_peaks_bbg200_asian.to_csv('./post_processed_data/df_peaks_bbg200_asian.csv', index=False)"
   ]
  },
  {
   "cell_type": "code",
   "execution_count": 4,
   "id": "feb5faa2",
   "metadata": {
    "ExecuteTime": {
     "end_time": "2021-08-10T11:30:17.428390Z",
     "start_time": "2021-08-10T11:30:16.370102Z"
    }
   },
   "outputs": [
    {
     "name": "stderr",
     "output_type": "stream",
     "text": [
      "<ipython-input-4-88511a7dc779>:21: SettingWithCopyWarning: \n",
      "A value is trying to be set on a copy of a slice from a DataFrame.\n",
      "Try using .loc[row_indexer,col_indexer] = value instead\n",
      "\n",
      "See the caveats in the documentation: https://pandas.pydata.org/pandas-docs/stable/user_guide/indexing.html#returning-a-view-versus-a-copy\n",
      "  df_peaks['month'] = df_peaks['date'].dt.strftime('%Y-%m')\n"
     ]
    }
   ],
   "source": [
    "# connect to billboard database\n",
    "conn = sqlite3.connect('./pre_processed_data/lab2.db')\n",
    "my_sql = \"\"\"\n",
    "    SELECT *\n",
    "    FROM billboard\n",
    "    left join wiki_artists\n",
    "    on name = artist \n",
    "\"\"\"\n",
    "df_bb = pd.read_sql(my_sql, conn)\n",
    "df_bb['date'] = pd.to_datetime(df_bb['date'])\n",
    "\n",
    "# create df for billboard global 200\n",
    "cols = ['date', 'artist', 'rank', 'country', 'lineage']\n",
    "df_bbg200 = df_bb[df_bb['chartname']=='weekly_billboard_global_200']\n",
    "df_bbg200 = df_bbg200[cols]\n",
    "df_bbg200 = df_bbg200.fillna({'country':'Non-Asian','lineage': 'Non-Asian'})\n",
    "\n",
    "# create df for top 100 asians\n",
    "df_peaks = df_bbg200[(df_bbg200['rank']<=100) \n",
    "                     & (df_bbg200['lineage']=='Mixed Asian')]\n",
    "df_peaks['month'] = df_peaks['date'].dt.strftime('%Y-%m')\n",
    "df_peaks = df_peaks.groupby('month')['country'].value_counts().to_frame()\n",
    "df_peaks.columns = ['count']\n",
    "df_peaks = df_peaks.reset_index()\n",
    "df_peaks_bbg200_mixed = df_peaks.copy()\n",
    "df_peaks_bbg200_mixed.to_csv('./post_processed_data/df_peaks_bbg200_mixed.csv', index=False)"
   ]
  },
  {
   "cell_type": "markdown",
   "id": "831fcaa4",
   "metadata": {},
   "source": [
    "# Billboard Hot 100"
   ]
  },
  {
   "cell_type": "code",
   "execution_count": 5,
   "id": "4f545d0c",
   "metadata": {
    "ExecuteTime": {
     "end_time": "2021-08-10T11:30:18.468296Z",
     "start_time": "2021-08-10T11:30:17.430868Z"
    }
   },
   "outputs": [
    {
     "name": "stderr",
     "output_type": "stream",
     "text": [
      "<ipython-input-5-7c36ebe71d44>:22: SettingWithCopyWarning: \n",
      "A value is trying to be set on a copy of a slice from a DataFrame.\n",
      "Try using .loc[row_indexer,col_indexer] = value instead\n",
      "\n",
      "See the caveats in the documentation: https://pandas.pydata.org/pandas-docs/stable/user_guide/indexing.html#returning-a-view-versus-a-copy\n",
      "  df_peaks['month'] = df_peaks['date'].dt.strftime('%Y-%m')\n"
     ]
    }
   ],
   "source": [
    "# connect to billboard database\n",
    "conn = sqlite3.connect('./pre_processed_data/lab2.db')\n",
    "my_sql = \"\"\"\n",
    "    SELECT *\n",
    "    FROM billboard\n",
    "    left join wiki_artists\n",
    "    on name = artist \n",
    "\"\"\"\n",
    "df_bb = pd.read_sql(my_sql, conn)\n",
    "df_bb['date'] = pd.to_datetime(df_bb['date'])\n",
    "\n",
    "# create df for billboard hot 100\n",
    "cols = ['date', 'artist', 'rank', 'country', 'lineage']\n",
    "df_bbhot100 = df_bb[df_bb['chartname']=='weekly_hot_100']\n",
    "df_bbhot100 = df_bbhot100[cols]\n",
    "df_bbhot100 = df_bbhot100.fillna({'country':'Non-Asian','lineage': 'Non-Asian'})\n",
    "\n",
    "# create df for top 100 asians\n",
    "df_peaks = df_bbhot100[(df_bbhot100['rank']<=100) \n",
    "                       & (df_bbhot100['lineage']=='Asian')]\n",
    "\n",
    "df_peaks['month'] = df_peaks['date'].dt.strftime('%Y-%m')\n",
    "df_peaks = df_peaks[df_peaks['month']>='2020-09']\n",
    "df_peaks = df_peaks.groupby('month')['country'].value_counts().to_frame()\n",
    "df_peaks.columns = ['count']\n",
    "df_peaks = df_peaks.reset_index()\n",
    "df_peaks_bbhot100_asian = df_peaks.copy()\n",
    "df_peaks_bbhot100_asian.to_csv('./post_processed_data/df_peaks_bbhot100_asian.csv', index=False)"
   ]
  },
  {
   "cell_type": "code",
   "execution_count": 6,
   "id": "0db36caa",
   "metadata": {
    "ExecuteTime": {
     "end_time": "2021-08-10T11:30:19.438226Z",
     "start_time": "2021-08-10T11:30:18.473148Z"
    }
   },
   "outputs": [
    {
     "name": "stderr",
     "output_type": "stream",
     "text": [
      "<ipython-input-6-6f42fdecb3fe>:21: SettingWithCopyWarning: \n",
      "A value is trying to be set on a copy of a slice from a DataFrame.\n",
      "Try using .loc[row_indexer,col_indexer] = value instead\n",
      "\n",
      "See the caveats in the documentation: https://pandas.pydata.org/pandas-docs/stable/user_guide/indexing.html#returning-a-view-versus-a-copy\n",
      "  df_peaks['month'] = df_peaks['date'].dt.strftime('%Y-%m')\n"
     ]
    }
   ],
   "source": [
    "# connect to billboard database\n",
    "conn = sqlite3.connect('./pre_processed_data/lab2.db')\n",
    "my_sql = \"\"\"\n",
    "    SELECT *\n",
    "    FROM billboard\n",
    "    left join wiki_artists\n",
    "    on name = artist \n",
    "\"\"\"\n",
    "df_bb = pd.read_sql(my_sql, conn)\n",
    "df_bb['date'] = pd.to_datetime(df_bb['date'])\n",
    "\n",
    "# create df for billboard hot 100\n",
    "cols = ['date', 'artist', 'rank', 'country', 'lineage']\n",
    "df_bbhot100 = df_bb[df_bb['chartname']=='weekly_hot_100']\n",
    "df_bbhot100 = df_bbhot100[cols]\n",
    "df_bbhot100 = df_bbhot100.fillna({'country':'Non-Asian','lineage': 'Non-Asian'})\n",
    "\n",
    "# create df for asians and mixed asians\n",
    "df_peaks = df_bbhot100[(df_bbhot100['rank']<=100) \n",
    "                       & (df_bbhot100['lineage']=='Mixed Asian')]\n",
    "df_peaks['month'] = df_peaks['date'].dt.strftime('%Y-%m')\n",
    "df_peaks = df_peaks[df_peaks['month']>='2020-09']\n",
    "df_peaks = df_peaks.groupby('month')['country'].value_counts().to_frame()\n",
    "df_peaks.columns = ['count']\n",
    "df_peaks = df_peaks.reset_index()\n",
    "df_peaks_bbhot100_mixed = df_peaks.copy()\n",
    "df_peaks_bbhot100_mixed.to_csv('./post_processed_data/df_peaks_bbhot100_mixed.csv', index=False)"
   ]
  },
  {
   "cell_type": "markdown",
   "id": "d714adb1",
   "metadata": {},
   "source": [
    "# Spotify Top 200 Global"
   ]
  },
  {
   "cell_type": "code",
   "execution_count": 7,
   "id": "af910c62",
   "metadata": {
    "ExecuteTime": {
     "end_time": "2021-08-10T11:30:21.017362Z",
     "start_time": "2021-08-10T11:30:19.440644Z"
    }
   },
   "outputs": [
    {
     "name": "stderr",
     "output_type": "stream",
     "text": [
      "<ipython-input-7-7c49be29f14d>:24: SettingWithCopyWarning: \n",
      "A value is trying to be set on a copy of a slice from a DataFrame.\n",
      "Try using .loc[row_indexer,col_indexer] = value instead\n",
      "\n",
      "See the caveats in the documentation: https://pandas.pydata.org/pandas-docs/stable/user_guide/indexing.html#returning-a-view-versus-a-copy\n",
      "  df_peaks['month'] = df_peaks['date'].dt.strftime('%Y-%m')\n"
     ]
    }
   ],
   "source": [
    "# connect to database\n",
    "conn = sqlite3.connect('./pre_processed_data/lab2.db')\n",
    "my_sql = \"\"\"\n",
    "    SELECT *\n",
    "    FROM spotify\n",
    "    left join wiki_artists\n",
    "    on name = artist2\n",
    "    WHERE chartname = 'top200'\n",
    "    AND chartfreq = 'weekly'\n",
    "    AND region = 'global'\n",
    "\"\"\"\n",
    "df_s200wg = pd.read_sql(my_sql, conn)\n",
    "\n",
    "# create df for spotify top 100 global\n",
    "df_s200wg['date'] = pd.to_datetime(df_s200wg['date'])\n",
    "cols = ['date', 'artist2', 'rank', 'stream_count', 'country', 'lineage']\n",
    "df_s200wg = df_s200wg[cols]\n",
    "df_s200wg = df_s200wg.fillna({'country':'Non-Asian','lineage': 'Non-Asian'})\n",
    "\n",
    "# create df for asians\n",
    "df_peaks = df_s200wg[(df_s200wg['rank']<=100) \n",
    "                     & (df_s200wg['lineage']=='Asian')]\n",
    "\n",
    "df_peaks['month'] = df_peaks['date'].dt.strftime('%Y-%m')\n",
    "df_peaks = df_peaks[df_peaks['month']>='2020-09']\n",
    "df_peaks = df_peaks.groupby('month')['country'].value_counts().to_frame()\n",
    "df_peaks.columns = ['count']\n",
    "df_peaks = df_peaks.reset_index()\n",
    "df_peaks_s200wg_asian = df_peaks.copy()\n",
    "df_peaks_s200wg_asian.to_csv('./post_processed_data/df_peaks_s200wg_asian.csv', index=False)"
   ]
  },
  {
   "cell_type": "code",
   "execution_count": 8,
   "id": "e9a72054",
   "metadata": {
    "ExecuteTime": {
     "end_time": "2021-08-10T11:30:22.590846Z",
     "start_time": "2021-08-10T11:30:21.019495Z"
    }
   },
   "outputs": [
    {
     "name": "stderr",
     "output_type": "stream",
     "text": [
      "<ipython-input-8-9d800269f892>:22: SettingWithCopyWarning: \n",
      "A value is trying to be set on a copy of a slice from a DataFrame.\n",
      "Try using .loc[row_indexer,col_indexer] = value instead\n",
      "\n",
      "See the caveats in the documentation: https://pandas.pydata.org/pandas-docs/stable/user_guide/indexing.html#returning-a-view-versus-a-copy\n",
      "  df_peaks['month'] = df_peaks['date'].dt.strftime('%Y-%m')\n"
     ]
    }
   ],
   "source": [
    "# connect to database and create df for spotify top 100 global\n",
    "conn = sqlite3.connect('./pre_processed_data/lab2.db')\n",
    "my_sql = \"\"\"\n",
    "    SELECT *\n",
    "    FROM spotify\n",
    "    left join wiki_artists\n",
    "    on name = artist2\n",
    "    WHERE chartname = 'top200'\n",
    "    AND chartfreq = 'weekly'\n",
    "    AND region = 'global'\n",
    "\"\"\"\n",
    "df_s200wg = pd.read_sql(my_sql, conn)\n",
    "df_s200wg['date'] = pd.to_datetime(df_s200wg['date'])\n",
    "cols = ['date', 'artist2', 'rank', 'stream_count', 'country', 'lineage']\n",
    "df_s200wg = df_s200wg[cols]\n",
    "df_s200wg = df_s200wg.fillna({'country':'Non-Asian','lineage': 'Non-Asian'})\n",
    "\n",
    "# create df for top asians and mixed asians\n",
    "df_peaks = df_s200wg[(df_s200wg['rank']<=100) \n",
    "                     & (df_s200wg['lineage']=='Mixed Asian')]\n",
    "\n",
    "df_peaks['month'] = df_peaks['date'].dt.strftime('%Y-%m')\n",
    "df_peaks = df_peaks[df_peaks['month']>='2020-09']\n",
    "df_peaks = df_peaks.groupby('month')['country'].value_counts().to_frame()\n",
    "df_peaks.columns = ['count']\n",
    "df_peaks = df_peaks.reset_index()\n",
    "df_peaks_s200wg_mixed = df_peaks.copy()\n",
    "df_peaks_s200wg_mixed.to_csv('./post_processed_data/df_peaks_s200wg_mixed.csv', index=False)"
   ]
  },
  {
   "cell_type": "markdown",
   "id": "45694cc1",
   "metadata": {},
   "source": [
    "# Spotify Top 200 US"
   ]
  },
  {
   "cell_type": "code",
   "execution_count": 9,
   "id": "2963f863",
   "metadata": {
    "ExecuteTime": {
     "end_time": "2021-08-10T11:30:24.114742Z",
     "start_time": "2021-08-10T11:30:22.593443Z"
    }
   },
   "outputs": [
    {
     "name": "stderr",
     "output_type": "stream",
     "text": [
      "<ipython-input-9-efc81d5ee344>:22: SettingWithCopyWarning: \n",
      "A value is trying to be set on a copy of a slice from a DataFrame.\n",
      "Try using .loc[row_indexer,col_indexer] = value instead\n",
      "\n",
      "See the caveats in the documentation: https://pandas.pydata.org/pandas-docs/stable/user_guide/indexing.html#returning-a-view-versus-a-copy\n",
      "  df_peaks['month'] = df_peaks['date'].dt.strftime('%Y-%m')\n"
     ]
    }
   ],
   "source": [
    "# connect to database and create df\n",
    "conn = sqlite3.connect('./pre_processed_data/lab2.db')\n",
    "my_sql = \"\"\"\n",
    "    SELECT *\n",
    "    FROM spotify\n",
    "    left join wiki_artists\n",
    "    on name = artist2\n",
    "    WHERE chartname = 'top200'\n",
    "    AND chartfreq = 'weekly'\n",
    "    AND region = 'us'\n",
    "\"\"\"\n",
    "df_s200wus = pd.read_sql(my_sql, conn)\n",
    "df_s200wus['date'] = pd.to_datetime(df_s200wus['date'])\n",
    "cols = ['date', 'artist2', 'rank', 'stream_count', 'country', 'lineage']\n",
    "df_s200wus = df_s200wus[cols]\n",
    "df_s200wus = df_s200wus.fillna({'country':'Non-Asian','lineage': 'Non-Asian'})\n",
    "\n",
    "# create df for top 100 asians\n",
    "df_peaks = df_s200wus[(df_s200wus['rank']<=100) \n",
    "                     & (df_s200wus['lineage']=='Asian')]\n",
    "\n",
    "df_peaks['month'] = df_peaks['date'].dt.strftime('%Y-%m')\n",
    "df_peaks = df_peaks[df_peaks['month']>='2020-09']\n",
    "df_peaks = df_peaks.groupby('month')['country'].value_counts().to_frame()\n",
    "df_peaks.columns = ['count']\n",
    "df_peaks = df_peaks.reset_index()\n",
    "df_peaks_s200wus_asian = df_peaks.copy()\n",
    "df_peaks_s200wus_asian.to_csv('./post_processed_data/df_peaks_s200wus_asian.csv', index=False)"
   ]
  },
  {
   "cell_type": "code",
   "execution_count": 10,
   "id": "2d9b8d5f",
   "metadata": {
    "ExecuteTime": {
     "end_time": "2021-08-10T11:30:25.667251Z",
     "start_time": "2021-08-10T11:30:24.117800Z"
    }
   },
   "outputs": [
    {
     "name": "stderr",
     "output_type": "stream",
     "text": [
      "<ipython-input-10-c2d341506881>:22: SettingWithCopyWarning: \n",
      "A value is trying to be set on a copy of a slice from a DataFrame.\n",
      "Try using .loc[row_indexer,col_indexer] = value instead\n",
      "\n",
      "See the caveats in the documentation: https://pandas.pydata.org/pandas-docs/stable/user_guide/indexing.html#returning-a-view-versus-a-copy\n",
      "  df_peaks['month'] = df_peaks['date'].dt.strftime('%Y-%m')\n"
     ]
    }
   ],
   "source": [
    "# connect to database and create df\n",
    "conn = sqlite3.connect('./pre_processed_data/lab2.db')\n",
    "my_sql = \"\"\"\n",
    "    SELECT *\n",
    "    FROM spotify\n",
    "    left join wiki_artists\n",
    "    on name = artist2\n",
    "    WHERE chartname = 'top200'\n",
    "    AND chartfreq = 'weekly'\n",
    "    AND region = 'us'\n",
    "\"\"\"\n",
    "df_s200wus = pd.read_sql(my_sql, conn)\n",
    "df_s200wus['date'] = pd.to_datetime(df_s200wus['date'])\n",
    "cols = ['date', 'artist2', 'rank', 'stream_count', 'country', 'lineage']\n",
    "df_s200wus = df_s200wus[cols]\n",
    "df_s200wus = df_s200wus.fillna({'country':'Non-Asian','lineage': 'Non-Asian'})\n",
    "\n",
    "# create df for top asians and mixed asians\n",
    "df_peaks = df_s200wus[(df_s200wus['rank']<=100) \n",
    "                     & (df_s200wus['lineage']=='Mixed Asian')]\n",
    "\n",
    "df_peaks['month'] = df_peaks['date'].dt.strftime('%Y-%m')\n",
    "df_peaks = df_peaks[df_peaks['month']>='2020-09']\n",
    "df_peaks = df_peaks.groupby('month')['country'].value_counts().to_frame()\n",
    "df_peaks.columns = ['count']\n",
    "df_peaks = df_peaks.reset_index()\n",
    "df_peaks_s200wus_mixed = df_peaks.copy()\n",
    "df_peaks_s200wus_mixed.to_csv('./post_processed_data/df_peaks_s200wus_mixed.csv', index=False)"
   ]
  },
  {
   "cell_type": "markdown",
   "id": "c9c8f5db",
   "metadata": {},
   "source": [
    "# Altair Stacked bar chart"
   ]
  },
  {
   "cell_type": "code",
   "execution_count": 11,
   "id": "df207843",
   "metadata": {
    "ExecuteTime": {
     "end_time": "2021-08-10T11:30:25.724565Z",
     "start_time": "2021-08-10T11:30:25.671312Z"
    }
   },
   "outputs": [],
   "source": [
    "df_peaks_bbg200_asian = pd.read_csv('./post_processed_data/df_peaks_bbg200_asian.csv')\n",
    "df_peaks_bbg200_mixed = pd.read_csv('./post_processed_data/df_peaks_bbg200_mixed.csv')\n",
    "df_peaks_bbhot100_asian = pd.read_csv('./post_processed_data/df_peaks_bbhot100_asian.csv')\n",
    "df_peaks_bbhot100_mixed = pd.read_csv('./post_processed_data/df_peaks_bbhot100_mixed.csv')\n",
    "df_peaks_s200wg_asian = pd.read_csv('./post_processed_data/df_peaks_s200wg_asian.csv')\n",
    "df_peaks_s200wg_mixed = pd.read_csv('./post_processed_data/df_peaks_s200wg_mixed.csv')\n",
    "df_peaks_s200wus_asian = pd.read_csv('./post_processed_data/df_peaks_s200wus_asian.csv')\n",
    "df_peaks_s200wus_mixed = pd.read_csv('./post_processed_data/df_peaks_s200wus_mixed.csv')\n",
    "\n",
    "df_peaks_bbg200_asian['chartname'] = 'Billboard Global 200'\n",
    "df_peaks_bbg200_mixed['chartname'] = 'Billboard Global 200'\n",
    "df_peaks_bbhot100_asian['chartname'] = 'Billboard Hot 100'\n",
    "df_peaks_bbhot100_mixed['chartname'] = 'Billboard Hot 100'\n",
    "df_peaks_s200wg_asian['chartname'] = 'Spotify Top 200 Global'\n",
    "df_peaks_s200wg_mixed['chartname'] = 'Spotify Top 200 Global'\n",
    "df_peaks_s200wus_asian['chartname'] = 'Spotify Top 200 US'\n",
    "df_peaks_s200wus_mixed['chartname'] = 'Spotify Top 200 US'\n",
    "\n",
    "df_list = [df_peaks_bbg200_asian,\n",
    "           df_peaks_bbg200_mixed,\n",
    "           df_peaks_bbhot100_asian,\n",
    "           df_peaks_bbhot100_mixed,\n",
    "           df_peaks_s200wg_asian,\n",
    "           df_peaks_s200wg_mixed,\n",
    "           df_peaks_s200wus_asian,\n",
    "           df_peaks_s200wus_mixed]\n",
    "\n",
    "df_all_peaks = pd.concat(df_list)\n",
    "df_all_peaks['month'] = df_all_peaks['month'].astype(str)\n",
    "df_all_peaks.to_csv('./post_processed_data/df_all_peaks.csv', index=False)"
   ]
  },
  {
   "cell_type": "code",
   "execution_count": 12,
   "id": "5871b40b",
   "metadata": {
    "ExecuteTime": {
     "end_time": "2021-08-10T11:30:25.757781Z",
     "start_time": "2021-08-10T11:30:25.726836Z"
    }
   },
   "outputs": [
    {
     "data": {
      "text/html": [
       "\n",
       "<div id=\"altair-viz-0954348809284305a7b97f6fea61c545\"></div>\n",
       "<script type=\"text/javascript\">\n",
       "  (function(spec, embedOpt){\n",
       "    let outputDiv = document.currentScript.previousElementSibling;\n",
       "    if (outputDiv.id !== \"altair-viz-0954348809284305a7b97f6fea61c545\") {\n",
       "      outputDiv = document.getElementById(\"altair-viz-0954348809284305a7b97f6fea61c545\");\n",
       "    }\n",
       "    const paths = {\n",
       "      \"vega\": \"https://cdn.jsdelivr.net/npm//vega@5?noext\",\n",
       "      \"vega-lib\": \"https://cdn.jsdelivr.net/npm//vega-lib?noext\",\n",
       "      \"vega-lite\": \"https://cdn.jsdelivr.net/npm//vega-lite@4.8.1?noext\",\n",
       "      \"vega-embed\": \"https://cdn.jsdelivr.net/npm//vega-embed@6?noext\",\n",
       "    };\n",
       "\n",
       "    function loadScript(lib) {\n",
       "      return new Promise(function(resolve, reject) {\n",
       "        var s = document.createElement('script');\n",
       "        s.src = paths[lib];\n",
       "        s.async = true;\n",
       "        s.onload = () => resolve(paths[lib]);\n",
       "        s.onerror = () => reject(`Error loading script: ${paths[lib]}`);\n",
       "        document.getElementsByTagName(\"head\")[0].appendChild(s);\n",
       "      });\n",
       "    }\n",
       "\n",
       "    function showError(err) {\n",
       "      outputDiv.innerHTML = `<div class=\"error\" style=\"color:red;\">${err}</div>`;\n",
       "      throw err;\n",
       "    }\n",
       "\n",
       "    function displayChart(vegaEmbed) {\n",
       "      vegaEmbed(outputDiv, spec, embedOpt)\n",
       "        .catch(err => showError(`Javascript Error: ${err.message}<br>This usually means there's a typo in your chart specification. See the javascript console for the full traceback.`));\n",
       "    }\n",
       "\n",
       "    if(typeof define === \"function\" && define.amd) {\n",
       "      requirejs.config({paths});\n",
       "      require([\"vega-embed\"], displayChart, err => showError(`Error loading script: ${err.message}`));\n",
       "    } else if (typeof vegaEmbed === \"function\") {\n",
       "      displayChart(vegaEmbed);\n",
       "    } else {\n",
       "      loadScript(\"vega\")\n",
       "        .then(() => loadScript(\"vega-lite\"))\n",
       "        .then(() => loadScript(\"vega-embed\"))\n",
       "        .catch(showError)\n",
       "        .then(() => displayChart(vegaEmbed));\n",
       "    }\n",
       "  })({\"config\": {\"view\": {\"continuousWidth\": 400, \"continuousHeight\": 300, \"strokeOpacity\": 0}, \"axis\": {\"labelFontSize\": 12, \"titleFontSize\": 14}, \"title\": {\"anchor\": \"middle\", \"fontSize\": 18, \"offset\": 5, \"orient\": \"top\"}}, \"data\": {\"name\": \"data-33fe82f62913a0fccd19a8612a00798f\"}, \"mark\": \"bar\", \"encoding\": {\"color\": {\"type\": \"nominal\", \"field\": \"country\", \"scale\": {\"range\": [\"#ffc60a\", \"#005799\", \"#61baff\", \"#30916f\", \"#79d2a6\", \"#ff9a47\", \"#f06c00\"]}}, \"column\": {\"type\": \"nominal\", \"field\": \"chartname\", \"title\": null}, \"x\": {\"type\": \"nominal\", \"field\": \"month\", \"title\": null}, \"y\": {\"type\": \"quantitative\", \"aggregate\": \"sum\", \"axis\": {\"grid\": false, \"title\": \"Number of Time in Chart\"}, \"field\": \"count\"}}, \"height\": 300, \"title\": \"Asians and Mixed-Asians Countries Through Time\", \"width\": 190, \"$schema\": \"https://vega.github.io/schema/vega-lite/v4.8.1.json\", \"datasets\": {\"data-33fe82f62913a0fccd19a8612a00798f\": [{\"month\": \"2020-09\", \"country\": \"South Korean\", \"count\": 4, \"chartname\": \"Billboard Global 200\"}, {\"month\": \"2020-09\", \"country\": \"Japanese\", \"count\": 3, \"chartname\": \"Billboard Global 200\"}, {\"month\": \"2020-10\", \"country\": \"South Korean\", \"count\": 22, \"chartname\": \"Billboard Global 200\"}, {\"month\": \"2020-10\", \"country\": \"Japanese\", \"count\": 10, \"chartname\": \"Billboard Global 200\"}, {\"month\": \"2020-11\", \"country\": \"South Korean\", \"count\": 33, \"chartname\": \"Billboard Global 200\"}, {\"month\": \"2020-11\", \"country\": \"Japanese\", \"count\": 20, \"chartname\": \"Billboard Global 200\"}, {\"month\": \"2020-12\", \"country\": \"South Korean\", \"count\": 11, \"chartname\": \"Billboard Global 200\"}, {\"month\": \"2020-12\", \"country\": \"Japanese\", \"count\": 7, \"chartname\": \"Billboard Global 200\"}, {\"month\": \"2021-01\", \"country\": \"Japanese\", \"count\": 14, \"chartname\": \"Billboard Global 200\"}, {\"month\": \"2021-01\", \"country\": \"South Korean\", \"count\": 12, \"chartname\": \"Billboard Global 200\"}, {\"month\": \"2021-02\", \"country\": \"Japanese\", \"count\": 9, \"chartname\": \"Billboard Global 200\"}, {\"month\": \"2021-02\", \"country\": \"South Korean\", \"count\": 6, \"chartname\": \"Billboard Global 200\"}, {\"month\": \"2021-02\", \"country\": \"Chinese\", \"count\": 4, \"chartname\": \"Billboard Global 200\"}, {\"month\": \"2021-03\", \"country\": \"Japanese\", \"count\": 12, \"chartname\": \"Billboard Global 200\"}, {\"month\": \"2021-03\", \"country\": \"South Korean\", \"count\": 6, \"chartname\": \"Billboard Global 200\"}, {\"month\": \"2021-03\", \"country\": \"Chinese\", \"count\": 5, \"chartname\": \"Billboard Global 200\"}, {\"month\": \"2021-04\", \"country\": \"South Korean\", \"count\": 7, \"chartname\": \"Billboard Global 200\"}, {\"month\": \"2021-04\", \"country\": \"Japanese\", \"count\": 6, \"chartname\": \"Billboard Global 200\"}, {\"month\": \"2021-05\", \"country\": \"South Korean\", \"count\": 13, \"chartname\": \"Billboard Global 200\"}, {\"month\": \"2021-05\", \"country\": \"Japanese\", \"count\": 3, \"chartname\": \"Billboard Global 200\"}, {\"month\": \"2021-05\", \"country\": \"Filipino\", \"count\": 2, \"chartname\": \"Billboard Global 200\"}, {\"month\": \"2021-06\", \"country\": \"South Korean\", \"count\": 11, \"chartname\": \"Billboard Global 200\"}, {\"month\": \"2021-06\", \"country\": \"Filipino\", \"count\": 4, \"chartname\": \"Billboard Global 200\"}, {\"month\": \"2021-06\", \"country\": \"Japanese\", \"count\": 3, \"chartname\": \"Billboard Global 200\"}, {\"month\": \"2021-07\", \"country\": \"South Korean\", \"count\": 12, \"chartname\": \"Billboard Global 200\"}, {\"month\": \"2021-07\", \"country\": \"Japanese\", \"count\": 6, \"chartname\": \"Billboard Global 200\"}, {\"month\": \"2021-07\", \"country\": \"Filipino\", \"count\": 4, \"chartname\": \"Billboard Global 200\"}, {\"month\": \"2020-09\", \"country\": \"Japanese American\", \"count\": 2, \"chartname\": \"Billboard Global 200\"}, {\"month\": \"2020-10\", \"country\": \"Japanese American\", \"count\": 4, \"chartname\": \"Billboard Global 200\"}, {\"month\": \"2020-11\", \"country\": \"Japanese American\", \"count\": 5, \"chartname\": \"Billboard Global 200\"}, {\"month\": \"2020-12\", \"country\": \"Japanese American\", \"count\": 2, \"chartname\": \"Billboard Global 200\"}, {\"month\": \"2021-01\", \"country\": \"Japanese American\", \"count\": 3, \"chartname\": \"Billboard Global 200\"}, {\"month\": \"2021-01\", \"country\": \"Filipino American\", \"count\": 2, \"chartname\": \"Billboard Global 200\"}, {\"month\": \"2021-02\", \"country\": \"Filipino American\", \"count\": 4, \"chartname\": \"Billboard Global 200\"}, {\"month\": \"2021-02\", \"country\": \"Japanese American\", \"count\": 1, \"chartname\": \"Billboard Global 200\"}, {\"month\": \"2021-03\", \"country\": \"Filipino American\", \"count\": 5, \"chartname\": \"Billboard Global 200\"}, {\"month\": \"2021-04\", \"country\": \"Filipino American\", \"count\": 9, \"chartname\": \"Billboard Global 200\"}, {\"month\": \"2021-05\", \"country\": \"Filipino American\", \"count\": 26, \"chartname\": \"Billboard Global 200\"}, {\"month\": \"2021-06\", \"country\": \"Filipino American\", \"count\": 43, \"chartname\": \"Billboard Global 200\"}, {\"month\": \"2021-07\", \"country\": \"Filipino American\", \"count\": 34, \"chartname\": \"Billboard Global 200\"}, {\"month\": \"2020-09\", \"country\": \"South Korean\", \"count\": 4, \"chartname\": \"Billboard Hot 100\"}, {\"month\": \"2020-10\", \"country\": \"South Korean\", \"count\": 5, \"chartname\": \"Billboard Hot 100\"}, {\"month\": \"2020-11\", \"country\": \"South Korean\", \"count\": 11, \"chartname\": \"Billboard Hot 100\"}, {\"month\": \"2020-12\", \"country\": \"South Korean\", \"count\": 6, \"chartname\": \"Billboard Hot 100\"}, {\"month\": \"2021-01\", \"country\": \"South Korean\", \"count\": 4, \"chartname\": \"Billboard Hot 100\"}, {\"month\": \"2021-02\", \"country\": \"South Korean\", \"count\": 5, \"chartname\": \"Billboard Hot 100\"}, {\"month\": \"2021-03\", \"country\": \"South Korean\", \"count\": 5, \"chartname\": \"Billboard Hot 100\"}, {\"month\": \"2021-04\", \"country\": \"South Korean\", \"count\": 2, \"chartname\": \"Billboard Hot 100\"}, {\"month\": \"2021-05\", \"country\": \"Filipino\", \"count\": 2, \"chartname\": \"Billboard Hot 100\"}, {\"month\": \"2021-05\", \"country\": \"South Korean\", \"count\": 1, \"chartname\": \"Billboard Hot 100\"}, {\"month\": \"2021-06\", \"country\": \"Filipino\", \"count\": 4, \"chartname\": \"Billboard Hot 100\"}, {\"month\": \"2021-06\", \"country\": \"South Korean\", \"count\": 4, \"chartname\": \"Billboard Hot 100\"}, {\"month\": \"2021-07\", \"country\": \"South Korean\", \"count\": 6, \"chartname\": \"Billboard Hot 100\"}, {\"month\": \"2021-07\", \"country\": \"Filipino\", \"count\": 4, \"chartname\": \"Billboard Hot 100\"}, {\"month\": \"2020-09\", \"country\": \"Japanese American\", \"count\": 4, \"chartname\": \"Billboard Hot 100\"}, {\"month\": \"2020-10\", \"country\": \"Japanese American\", \"count\": 4, \"chartname\": \"Billboard Hot 100\"}, {\"month\": \"2020-11\", \"country\": \"Japanese American\", \"count\": 4, \"chartname\": \"Billboard Hot 100\"}, {\"month\": \"2020-11\", \"country\": \"Filipino American\", \"count\": 1, \"chartname\": \"Billboard Hot 100\"}, {\"month\": \"2020-12\", \"country\": \"Filipino American\", \"count\": 1, \"chartname\": \"Billboard Hot 100\"}, {\"month\": \"2020-12\", \"country\": \"Japanese American\", \"count\": 1, \"chartname\": \"Billboard Hot 100\"}, {\"month\": \"2021-01\", \"country\": \"Filipino American\", \"count\": 6, \"chartname\": \"Billboard Hot 100\"}, {\"month\": \"2021-02\", \"country\": \"Filipino American\", \"count\": 10, \"chartname\": \"Billboard Hot 100\"}, {\"month\": \"2021-03\", \"country\": \"Filipino American\", \"count\": 10, \"chartname\": \"Billboard Hot 100\"}, {\"month\": \"2021-04\", \"country\": \"Filipino American\", \"count\": 11, \"chartname\": \"Billboard Hot 100\"}, {\"month\": \"2021-05\", \"country\": \"Filipino American\", \"count\": 23, \"chartname\": \"Billboard Hot 100\"}, {\"month\": \"2021-06\", \"country\": \"Filipino American\", \"count\": 42, \"chartname\": \"Billboard Hot 100\"}, {\"month\": \"2021-07\", \"country\": \"Filipino American\", \"count\": 37, \"chartname\": \"Billboard Hot 100\"}, {\"month\": \"2020-09\", \"country\": \"South Korean\", \"count\": 12, \"chartname\": \"Spotify Top 200 Global\"}, {\"month\": \"2020-09\", \"country\": \"Filipino\", \"count\": 4, \"chartname\": \"Spotify Top 200 Global\"}, {\"month\": \"2020-09\", \"country\": \"Japanese\", \"count\": 4, \"chartname\": \"Spotify Top 200 Global\"}, {\"month\": \"2020-10\", \"country\": \"South Korean\", \"count\": 32, \"chartname\": \"Spotify Top 200 Global\"}, {\"month\": \"2020-10\", \"country\": \"Filipino\", \"count\": 5, \"chartname\": \"Spotify Top 200 Global\"}, {\"month\": \"2020-10\", \"country\": \"Chinese\", \"count\": 1, \"chartname\": \"Spotify Top 200 Global\"}, {\"month\": \"2020-11\", \"country\": \"South Korean\", \"count\": 23, \"chartname\": \"Spotify Top 200 Global\"}, {\"month\": \"2020-11\", \"country\": \"Filipino\", \"count\": 5, \"chartname\": \"Spotify Top 200 Global\"}, {\"month\": \"2020-11\", \"country\": \"Chinese\", \"count\": 1, \"chartname\": \"Spotify Top 200 Global\"}, {\"month\": \"2020-12\", \"country\": \"South Korean\", \"count\": 8, \"chartname\": \"Spotify Top 200 Global\"}, {\"month\": \"2020-12\", \"country\": \"Japanese\", \"count\": 4, \"chartname\": \"Spotify Top 200 Global\"}, {\"month\": \"2020-12\", \"country\": \"Filipino\", \"count\": 2, \"chartname\": \"Spotify Top 200 Global\"}, {\"month\": \"2021-01\", \"country\": \"South Korean\", \"count\": 10, \"chartname\": \"Spotify Top 200 Global\"}, {\"month\": \"2021-01\", \"country\": \"Filipino\", \"count\": 5, \"chartname\": \"Spotify Top 200 Global\"}, {\"month\": \"2021-02\", \"country\": \"South Korean\", \"count\": 7, \"chartname\": \"Spotify Top 200 Global\"}, {\"month\": \"2021-02\", \"country\": \"Filipino\", \"count\": 4, \"chartname\": \"Spotify Top 200 Global\"}, {\"month\": \"2021-03\", \"country\": \"Filipino\", \"count\": 4, \"chartname\": \"Spotify Top 200 Global\"}, {\"month\": \"2021-03\", \"country\": \"South Korean\", \"count\": 4, \"chartname\": \"Spotify Top 200 Global\"}, {\"month\": \"2021-04\", \"country\": \"South Korean\", \"count\": 9, \"chartname\": \"Spotify Top 200 Global\"}, {\"month\": \"2021-04\", \"country\": \"Filipino\", \"count\": 2, \"chartname\": \"Spotify Top 200 Global\"}, {\"month\": \"2021-05\", \"country\": \"South Korean\", \"count\": 9, \"chartname\": \"Spotify Top 200 Global\"}, {\"month\": \"2021-05\", \"country\": \"Filipino\", \"count\": 3, \"chartname\": \"Spotify Top 200 Global\"}, {\"month\": \"2021-06\", \"country\": \"South Korean\", \"count\": 10, \"chartname\": \"Spotify Top 200 Global\"}, {\"month\": \"2021-06\", \"country\": \"Filipino\", \"count\": 4, \"chartname\": \"Spotify Top 200 Global\"}, {\"month\": \"2021-07\", \"country\": \"South Korean\", \"count\": 11, \"chartname\": \"Spotify Top 200 Global\"}, {\"month\": \"2021-07\", \"country\": \"Filipino\", \"count\": 4, \"chartname\": \"Spotify Top 200 Global\"}, {\"month\": \"2020-09\", \"country\": \"Japanese American\", \"count\": 4, \"chartname\": \"Spotify Top 200 Global\"}, {\"month\": \"2020-10\", \"country\": \"Japanese American\", \"count\": 5, \"chartname\": \"Spotify Top 200 Global\"}, {\"month\": \"2020-11\", \"country\": \"Japanese American\", \"count\": 4, \"chartname\": \"Spotify Top 200 Global\"}, {\"month\": \"2020-12\", \"country\": \"Japanese American\", \"count\": 4, \"chartname\": \"Spotify Top 200 Global\"}, {\"month\": \"2021-01\", \"country\": \"Japanese American\", \"count\": 5, \"chartname\": \"Spotify Top 200 Global\"}, {\"month\": \"2021-01\", \"country\": \"Filipino American\", \"count\": 4, \"chartname\": \"Spotify Top 200 Global\"}, {\"month\": \"2021-02\", \"country\": \"Filipino American\", \"count\": 4, \"chartname\": \"Spotify Top 200 Global\"}, {\"month\": \"2021-02\", \"country\": \"Japanese American\", \"count\": 4, \"chartname\": \"Spotify Top 200 Global\"}, {\"month\": \"2021-03\", \"country\": \"Filipino American\", \"count\": 8, \"chartname\": \"Spotify Top 200 Global\"}, {\"month\": \"2021-03\", \"country\": \"Japanese American\", \"count\": 4, \"chartname\": \"Spotify Top 200 Global\"}, {\"month\": \"2021-03\", \"country\": \"Korean American\", \"count\": 4, \"chartname\": \"Spotify Top 200 Global\"}, {\"month\": \"2021-04\", \"country\": \"Filipino American\", \"count\": 20, \"chartname\": \"Spotify Top 200 Global\"}, {\"month\": \"2021-04\", \"country\": \"Japanese American\", \"count\": 5, \"chartname\": \"Spotify Top 200 Global\"}, {\"month\": \"2021-04\", \"country\": \"Korean American\", \"count\": 5, \"chartname\": \"Spotify Top 200 Global\"}, {\"month\": \"2021-05\", \"country\": \"Filipino American\", \"count\": 35, \"chartname\": \"Spotify Top 200 Global\"}, {\"month\": \"2021-05\", \"country\": \"Korean American\", \"count\": 4, \"chartname\": \"Spotify Top 200 Global\"}, {\"month\": \"2021-05\", \"country\": \"Japanese American\", \"count\": 1, \"chartname\": \"Spotify Top 200 Global\"}, {\"month\": \"2021-06\", \"country\": \"Filipino American\", \"count\": 51, \"chartname\": \"Spotify Top 200 Global\"}, {\"month\": \"2021-06\", \"country\": \"Korean American\", \"count\": 4, \"chartname\": \"Spotify Top 200 Global\"}, {\"month\": \"2021-07\", \"country\": \"Filipino American\", \"count\": 41, \"chartname\": \"Spotify Top 200 Global\"}, {\"month\": \"2021-07\", \"country\": \"Korean American\", \"count\": 4, \"chartname\": \"Spotify Top 200 Global\"}, {\"month\": \"2020-09\", \"country\": \"Japanese\", \"count\": 15, \"chartname\": \"Spotify Top 200 US\"}, {\"month\": \"2020-09\", \"country\": \"South Korean\", \"count\": 7, \"chartname\": \"Spotify Top 200 US\"}, {\"month\": \"2020-09\", \"country\": \"Filipino\", \"count\": 4, \"chartname\": \"Spotify Top 200 US\"}, {\"month\": \"2020-10\", \"country\": \"South Korean\", \"count\": 14, \"chartname\": \"Spotify Top 200 US\"}, {\"month\": \"2020-10\", \"country\": \"Filipino\", \"count\": 5, \"chartname\": \"Spotify Top 200 US\"}, {\"month\": \"2020-10\", \"country\": \"Japanese\", \"count\": 5, \"chartname\": \"Spotify Top 200 US\"}, {\"month\": \"2020-11\", \"country\": \"South Korean\", \"count\": 11, \"chartname\": \"Spotify Top 200 US\"}, {\"month\": \"2020-11\", \"country\": \"Filipino\", \"count\": 3, \"chartname\": \"Spotify Top 200 US\"}, {\"month\": \"2020-11\", \"country\": \"Japanese\", \"count\": 3, \"chartname\": \"Spotify Top 200 US\"}, {\"month\": \"2020-12\", \"country\": \"Japanese\", \"count\": 4, \"chartname\": \"Spotify Top 200 US\"}, {\"month\": \"2020-12\", \"country\": \"South Korean\", \"count\": 2, \"chartname\": \"Spotify Top 200 US\"}, {\"month\": \"2021-01\", \"country\": \"South Korean\", \"count\": 5, \"chartname\": \"Spotify Top 200 US\"}, {\"month\": \"2021-01\", \"country\": \"Japanese\", \"count\": 4, \"chartname\": \"Spotify Top 200 US\"}, {\"month\": \"2021-01\", \"country\": \"Filipino\", \"count\": 3, \"chartname\": \"Spotify Top 200 US\"}, {\"month\": \"2021-02\", \"country\": \"Japanese\", \"count\": 5, \"chartname\": \"Spotify Top 200 US\"}, {\"month\": \"2021-02\", \"country\": \"Filipino\", \"count\": 4, \"chartname\": \"Spotify Top 200 US\"}, {\"month\": \"2021-02\", \"country\": \"South Korean\", \"count\": 4, \"chartname\": \"Spotify Top 200 US\"}, {\"month\": \"2021-03\", \"country\": \"Japanese\", \"count\": 2, \"chartname\": \"Spotify Top 200 US\"}, {\"month\": \"2021-03\", \"country\": \"South Korean\", \"count\": 2, \"chartname\": \"Spotify Top 200 US\"}, {\"month\": \"2021-03\", \"country\": \"Filipino\", \"count\": 1, \"chartname\": \"Spotify Top 200 US\"}, {\"month\": \"2021-05\", \"country\": \"South Korean\", \"count\": 4, \"chartname\": \"Spotify Top 200 US\"}, {\"month\": \"2021-05\", \"country\": \"Filipino\", \"count\": 3, \"chartname\": \"Spotify Top 200 US\"}, {\"month\": \"2021-05\", \"country\": \"Japanese\", \"count\": 1, \"chartname\": \"Spotify Top 200 US\"}, {\"month\": \"2021-06\", \"country\": \"Filipino\", \"count\": 4, \"chartname\": \"Spotify Top 200 US\"}, {\"month\": \"2021-06\", \"country\": \"South Korean\", \"count\": 4, \"chartname\": \"Spotify Top 200 US\"}, {\"month\": \"2021-07\", \"country\": \"South Korean\", \"count\": 7, \"chartname\": \"Spotify Top 200 US\"}, {\"month\": \"2021-07\", \"country\": \"Filipino\", \"count\": 4, \"chartname\": \"Spotify Top 200 US\"}, {\"month\": \"2020-09\", \"country\": \"Japanese American\", \"count\": 4, \"chartname\": \"Spotify Top 200 US\"}, {\"month\": \"2020-10\", \"country\": \"Japanese American\", \"count\": 6, \"chartname\": \"Spotify Top 200 US\"}, {\"month\": \"2020-11\", \"country\": \"Japanese American\", \"count\": 4, \"chartname\": \"Spotify Top 200 US\"}, {\"month\": \"2020-12\", \"country\": \"Japanese American\", \"count\": 4, \"chartname\": \"Spotify Top 200 US\"}, {\"month\": \"2021-01\", \"country\": \"Filipino American\", \"count\": 6, \"chartname\": \"Spotify Top 200 US\"}, {\"month\": \"2021-01\", \"country\": \"Japanese American\", \"count\": 5, \"chartname\": \"Spotify Top 200 US\"}, {\"month\": \"2021-02\", \"country\": \"Filipino American\", \"count\": 4, \"chartname\": \"Spotify Top 200 US\"}, {\"month\": \"2021-02\", \"country\": \"Japanese American\", \"count\": 4, \"chartname\": \"Spotify Top 200 US\"}, {\"month\": \"2021-03\", \"country\": \"Filipino American\", \"count\": 8, \"chartname\": \"Spotify Top 200 US\"}, {\"month\": \"2021-03\", \"country\": \"Japanese American\", \"count\": 4, \"chartname\": \"Spotify Top 200 US\"}, {\"month\": \"2021-03\", \"country\": \"Korean American\", \"count\": 4, \"chartname\": \"Spotify Top 200 US\"}, {\"month\": \"2021-04\", \"country\": \"Filipino American\", \"count\": 20, \"chartname\": \"Spotify Top 200 US\"}, {\"month\": \"2021-04\", \"country\": \"Korean American\", \"count\": 5, \"chartname\": \"Spotify Top 200 US\"}, {\"month\": \"2021-04\", \"country\": \"Japanese American\", \"count\": 3, \"chartname\": \"Spotify Top 200 US\"}, {\"month\": \"2021-05\", \"country\": \"Filipino American\", \"count\": 35, \"chartname\": \"Spotify Top 200 US\"}, {\"month\": \"2021-05\", \"country\": \"Korean American\", \"count\": 4, \"chartname\": \"Spotify Top 200 US\"}, {\"month\": \"2021-05\", \"country\": \"Japanese American\", \"count\": 1, \"chartname\": \"Spotify Top 200 US\"}, {\"month\": \"2021-06\", \"country\": \"Filipino American\", \"count\": 48, \"chartname\": \"Spotify Top 200 US\"}, {\"month\": \"2021-06\", \"country\": \"Korean American\", \"count\": 4, \"chartname\": \"Spotify Top 200 US\"}, {\"month\": \"2021-07\", \"country\": \"Filipino American\", \"count\": 46, \"chartname\": \"Spotify Top 200 US\"}, {\"month\": \"2021-07\", \"country\": \"Korean American\", \"count\": 4, \"chartname\": \"Spotify Top 200 US\"}, {\"month\": \"2021-07\", \"country\": \"Japanese American\", \"count\": 1, \"chartname\": \"Spotify Top 200 US\"}]}}, {\"mode\": \"vega-lite\"});\n",
       "</script>"
      ],
      "text/plain": [
       "alt.Chart(...)"
      ]
     },
     "execution_count": 12,
     "metadata": {},
     "output_type": "execute_result"
    }
   ],
   "source": [
    "# Plot of Asians vs Mixed-Asians Countries through Time\n",
    "df_all = pd.read_csv('./post_processed_data/df_all_peaks.csv')\n",
    "stacked_bar = alt.Chart(df_all,\n",
    "                        title=\"Asians and Mixed-Asians Countries Through Time\"\n",
    ").mark_bar().encode(\n",
    "    x=alt.X('month:N', title=None),\n",
    "    y=alt.Y('sum(count):Q', axis=alt.Axis(grid=False,\n",
    "                                          title='Number of Time in Chart')),\n",
    "    column=alt.Column('chartname:N', title=None),\n",
    "    color=alt.Color('country:N', \n",
    "                    scale=alt.Scale(range=['#ffc60a', '#005799', '#61baff',\n",
    "                                           '#30916f', '#79d2a6', '#ff9a47',\n",
    "                                           '#f06c00']\n",
    "\n",
    "))\n",
    ").configure_view(\n",
    "    strokeOpacity=0    \n",
    ").properties(\n",
    "    width=190,\n",
    "    height=300\n",
    ").configure_axis(\n",
    "    labelFontSize=12,\n",
    "    titleFontSize=14\n",
    ").configure_title(\n",
    "    fontSize=18, \n",
    "    offset=5,                                  \n",
    "    orient='top', \n",
    "    anchor='middle')\n",
    "\n",
    "stacked_bar\n"
   ]
  },
  {
   "cell_type": "code",
   "execution_count": null,
   "id": "b158646b",
   "metadata": {},
   "outputs": [],
   "source": []
  }
 ],
 "metadata": {
  "kernelspec": {
   "display_name": "Python 3",
   "language": "python",
   "name": "python3"
  },
  "language_info": {
   "codemirror_mode": {
    "name": "ipython",
    "version": 3
   },
   "file_extension": ".py",
   "mimetype": "text/x-python",
   "name": "python",
   "nbconvert_exporter": "python",
   "pygments_lexer": "ipython3",
   "version": "3.8.8"
  },
  "toc": {
   "base_numbering": 1,
   "nav_menu": {},
   "number_sections": true,
   "sideBar": true,
   "skip_h1_title": false,
   "title_cell": "Table of Contents",
   "title_sidebar": "Contents",
   "toc_cell": false,
   "toc_position": {},
   "toc_section_display": true,
   "toc_window_display": false
  }
 },
 "nbformat": 4,
 "nbformat_minor": 5
}
